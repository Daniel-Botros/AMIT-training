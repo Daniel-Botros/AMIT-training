{
 "cells": [
  {
   "cell_type": "code",
   "execution_count": 1,
   "id": "3b092104",
   "metadata": {},
   "outputs": [],
   "source": [
    "#we can get as many arguments as we want an it will be put in a tuple named num\n",
    "\n",
    "def summation(*nums):\n",
    "    \n",
    "    result = 0\n",
    "    \n",
    "    #we will throw the nums \n",
    "    \n",
    "    for num in nums:\n",
    "        \n",
    "        #we will add the num to the result\n",
    "        \n",
    "        result += num\n",
    "        \n",
    "    return result\n",
    "\n"
   ]
  },
  {
   "cell_type": "code",
   "execution_count": 2,
   "id": "be446f1c",
   "metadata": {},
   "outputs": [
    {
     "name": "stdout",
     "output_type": "stream",
     "text": [
      "177\n"
     ]
    }
   ],
   "source": [
    "print(summation(2,34,56,76,5,4))"
   ]
  },
  {
   "cell_type": "code",
   "execution_count": 3,
   "id": "391325db",
   "metadata": {},
   "outputs": [],
   "source": [
    "#we can get as many keyed arguments as we want an it will be put in a dictionary named dec\n",
    "\n",
    "def info(**dec):\n",
    "    \n",
    "    \n",
    "    #we will throw the keys and the values\n",
    "    \n",
    "    for k,v in dec.items() :\n",
    "    \n",
    "        print('The {} is {}'.format(k,v))\n",
    "        "
   ]
  },
  {
   "cell_type": "code",
   "execution_count": 4,
   "id": "f65f130b",
   "metadata": {},
   "outputs": [
    {
     "name": "stdout",
     "output_type": "stream",
     "text": [
      "The fname is Daniel\n",
      "The sname is b\n",
      "The age is 22\n"
     ]
    }
   ],
   "source": [
    "info(fname = 'Daniel',sname ='b', age = '22')"
   ]
  },
  {
   "cell_type": "code",
   "execution_count": null,
   "id": "a51d88ec",
   "metadata": {},
   "outputs": [],
   "source": []
  }
 ],
 "metadata": {
  "kernelspec": {
   "display_name": "Python 3 (ipykernel)",
   "language": "python",
   "name": "python3"
  },
  "language_info": {
   "codemirror_mode": {
    "name": "ipython",
    "version": 3
   },
   "file_extension": ".py",
   "mimetype": "text/x-python",
   "name": "python",
   "nbconvert_exporter": "python",
   "pygments_lexer": "ipython3",
   "version": "3.9.12"
  }
 },
 "nbformat": 4,
 "nbformat_minor": 5
}
