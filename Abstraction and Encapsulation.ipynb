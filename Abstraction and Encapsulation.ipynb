{
 "cells": [
  {
   "cell_type": "code",
   "execution_count": 3,
   "id": "fc962d63",
   "metadata": {},
   "outputs": [],
   "source": [
    "#we make the class\n",
    "class shape:\n",
    "    \n",
    "    def __init__(self,side):\n",
    "        \n",
    "        #we make a privet varible\n",
    "        \n",
    "        self.__sides = side\n",
    "        \n",
    "    def till(self):\n",
    "        \n",
    "        print('I have {} sides'.format(self.__sides))\n",
    " \n",
    " \n"
   ]
  },
  {
   "cell_type": "code",
   "execution_count": 7,
   "id": "51d19f32",
   "metadata": {},
   "outputs": [
    {
     "name": "stdout",
     "output_type": "stream",
     "text": [
      "I have 5 sides\n"
     ]
    }
   ],
   "source": [
    "x = shape(5)\n",
    "x.till()"
   ]
  },
  {
   "cell_type": "code",
   "execution_count": 11,
   "id": "fcc0798c",
   "metadata": {},
   "outputs": [
    {
     "name": "stdout",
     "output_type": "stream",
     "text": [
      "Abstract Base Class\n",
      "subclass \n"
     ]
    }
   ],
   "source": [
    "#we import the abc (Abstract Base Classes) library \n",
    "\n",
    "import abc\n",
    "from abc import ABC, abstractmethod\n",
    "\n",
    "# the R class inhaits from abc\n",
    " \n",
    "class R(ABC):\n",
    "    \n",
    "    def rk(self):\n",
    "        \n",
    "        print(\"Abstract Base Class\")\n",
    "        \n",
    "#wethe k inharts of class R\n",
    "        \n",
    "class K(R):\n",
    "    \n",
    "    def rk(self):\n",
    "        \n",
    "        super().rk()\n",
    "        \n",
    "        print(\"subclass \")\n",
    " \n",
    "\n"
   ]
  },
  {
   "cell_type": "code",
   "execution_count": null,
   "id": "8999662c",
   "metadata": {},
   "outputs": [],
   "source": [
    "r = K()\n",
    "r.rk()"
   ]
  }
 ],
 "metadata": {
  "kernelspec": {
   "display_name": "Python 3 (ipykernel)",
   "language": "python",
   "name": "python3"
  },
  "language_info": {
   "codemirror_mode": {
    "name": "ipython",
    "version": 3
   },
   "file_extension": ".py",
   "mimetype": "text/x-python",
   "name": "python",
   "nbconvert_exporter": "python",
   "pygments_lexer": "ipython3",
   "version": "3.9.12"
  }
 },
 "nbformat": 4,
 "nbformat_minor": 5
}
