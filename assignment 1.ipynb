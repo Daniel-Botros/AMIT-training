{
 "cells": [
  {
   "cell_type": "markdown",
   "id": "b969b4f3",
   "metadata": {},
   "source": [
    "Taking multiple inputs from a user"
   ]
  },
  {
   "cell_type": "code",
   "execution_count": 1,
   "id": "6c841b4d",
   "metadata": {},
   "outputs": [
    {
     "name": "stdout",
     "output_type": "stream",
     "text": [
      "Enter the two values and separated by (,): 10,20\n"
     ]
    }
   ],
   "source": [
    "#taking two inputs and splting them by the split function\n",
    "\n",
    "x,y = input('Enter the two values and separated by (,): ').split(',')"
   ]
  },
  {
   "cell_type": "code",
   "execution_count": 2,
   "id": "bd9caeae",
   "metadata": {},
   "outputs": [],
   "source": [
    "#convert x and y from string to int\n",
    "\n",
    "x_int=int(x)\n",
    "y_int=int(y)"
   ]
  },
  {
   "cell_type": "code",
   "execution_count": 3,
   "id": "4666c4d1",
   "metadata": {},
   "outputs": [
    {
     "name": "stdout",
     "output_type": "stream",
     "text": [
      "The summation of the two values are: 30\n"
     ]
    }
   ],
   "source": [
    "#printing out the output\n",
    "\n",
    "print('The summation of the two values are:', x_int+y_int)"
   ]
  },
  {
   "cell_type": "code",
   "execution_count": null,
   "id": "803756fc",
   "metadata": {},
   "outputs": [],
   "source": []
  }
 ],
 "metadata": {
  "kernelspec": {
   "display_name": "Python 3 (ipykernel)",
   "language": "python",
   "name": "python3"
  },
  "language_info": {
   "codemirror_mode": {
    "name": "ipython",
    "version": 3
   },
   "file_extension": ".py",
   "mimetype": "text/x-python",
   "name": "python",
   "nbconvert_exporter": "python",
   "pygments_lexer": "ipython3",
   "version": "3.9.12"
  }
 },
 "nbformat": 4,
 "nbformat_minor": 5
}
