{
 "cells": [
  {
   "cell_type": "markdown",
   "metadata": {},
   "source": [
    "# Assignment 3"
   ]
  },
  {
   "cell_type": "markdown",
   "metadata": {},
   "source": [
    "### Write a function to count the number 4 in a given list."
   ]
  },
  {
   "cell_type": "code",
   "execution_count": 1,
   "metadata": {},
   "outputs": [],
   "source": [
    "def list_count_4 (numList):\n",
    "    \n",
    "    #difining the counter so we can used later\n",
    "    \n",
    "    count = 0\n",
    "    \n",
    "    #we will go throw the numbers in the list\n",
    "    \n",
    "    for num in numList:\n",
    "        \n",
    "        #we will se if the number is a 4\n",
    "        \n",
    "        if num == 4:\n",
    "            \n",
    "            #if its a 4 we add 1 to the counter\n",
    "            \n",
    "            count =+ 1\n",
    "    \n",
    "    # we retur the counted 4\n",
    "    return count          \n"
   ]
  },
  {
   "cell_type": "code",
   "execution_count": 2,
   "metadata": {},
   "outputs": [
    {
     "name": "stdout",
     "output_type": "stream",
     "text": [
      "1\n"
     ]
    }
   ],
   "source": [
    "print(list_count_4([1,2,3,4,5,6,6,5,4,3,2,4,5]))"
   ]
  },
  {
   "cell_type": "markdown",
   "metadata": {},
   "source": [
    "### write a  function to check whether a number is divisible by another number."
   ]
  },
  {
   "cell_type": "code",
   "execution_count": 3,
   "metadata": {},
   "outputs": [],
   "source": [
    "#if the 1st num reminder being dvided by the 2nd num equal 0 then the flag will be set to true  if not it will be false\n",
    "\n",
    "see_if_div = lambda fop,sop : fop%sop == 0"
   ]
  },
  {
   "cell_type": "code",
   "execution_count": 4,
   "metadata": {},
   "outputs": [
    {
     "name": "stdout",
     "output_type": "stream",
     "text": [
      "True\n"
     ]
    }
   ],
   "source": [
    "print(see_if_div (10,5))"
   ]
  },
  {
   "cell_type": "markdown",
   "metadata": {},
   "source": [
    "### write a function to find the maximum and minimum numbers from a sequence of numbers."
   ]
  },
  {
   "cell_type": "code",
   "execution_count": 5,
   "metadata": {},
   "outputs": [],
   "source": [
    "def max_min (numList):\n",
    "    \n",
    "    #we will put the first num in the list in the max and the min \n",
    "    \n",
    "    max_num = numList[0]\n",
    "    min_num = numList[0]\n",
    "    \n",
    "    #we will go throw the numbers in the list\n",
    "    \n",
    "    for num in numList:\n",
    "        \n",
    "        # if the num in the list is bigger then it will be put in max\n",
    "        \n",
    "        if num > max_num:\n",
    "            max_num = num\n",
    "           \n",
    "        # if the num in the list is smaller then it will be put in min\n",
    "        \n",
    "        if num < min_num:\n",
    "            min_num = num\n",
    "            \n",
    "    return max_num,min_num"
   ]
  },
  {
   "cell_type": "code",
   "execution_count": 6,
   "metadata": {},
   "outputs": [
    {
     "name": "stdout",
     "output_type": "stream",
     "text": [
      "(99, 1)\n"
     ]
    }
   ],
   "source": [
    "print(max_min ([1,2,34,56,78,99,87,65,4,32,1,2,3,45]))"
   ]
  },
  {
   "cell_type": "markdown",
   "metadata": {},
   "source": [
    "### Write a Python function that takes two lists and returns True if they have at least one common member."
   ]
  },
  {
   "cell_type": "code",
   "execution_count": 7,
   "metadata": {},
   "outputs": [],
   "source": [
    "def match_list (flist,slist):\n",
    "    \n",
    "    #we will make a flag an will but false in it\n",
    "    \n",
    "    flag = False\n",
    "    \n",
    "    # we will go throw the numbers in the frist list\n",
    "    \n",
    "    for fnum in flist:\n",
    "        \n",
    "        # we will go throw the numbers in the second list\n",
    "        \n",
    "        for snum in slist:\n",
    "            \n",
    "            #if any two num are equel the the flag become true\n",
    "            \n",
    "            if fnum == snum :\n",
    "                flag = True\n",
    "                \n",
    "                \n",
    "    return flag\n",
    "        "
   ]
  },
  {
   "cell_type": "code",
   "execution_count": 8,
   "metadata": {},
   "outputs": [
    {
     "name": "stdout",
     "output_type": "stream",
     "text": [
      "True\n"
     ]
    }
   ],
   "source": [
    "print(match_list([2,33,4,67,4],[7,45,68,33]))"
   ]
  },
  {
   "cell_type": "markdown",
   "metadata": {},
   "source": [
    "### Write a Python function to calculate the factorial of a number (a non-negative integer). The function accepts the number from the user"
   ]
  },
  {
   "cell_type": "code",
   "execution_count": 9,
   "metadata": {},
   "outputs": [],
   "source": [
    "def fac(num):\n",
    "    \n",
    "    # when the num is equel to 1 we will return 1\n",
    "    \n",
    "    if num == 1 :\n",
    "        \n",
    "        return 1\n",
    "    \n",
    "    # when the num is equel to 0 we will return 1\n",
    "    \n",
    "    elif num == 0 :\n",
    "    \n",
    "        return 1\n",
    "    \n",
    "    # if not we will call the function agine but the num will be -1\n",
    "    \n",
    "    else:\n",
    "    \n",
    "        return num * fac(num-1)"
   ]
  },
  {
   "cell_type": "code",
   "execution_count": 10,
   "metadata": {},
   "outputs": [
    {
     "name": "stdout",
     "output_type": "stream",
     "text": [
      "120\n"
     ]
    }
   ],
   "source": [
    "print(fac(5))"
   ]
  },
  {
   "cell_type": "markdown",
   "metadata": {},
   "source": [
    "### Write a Python function to check whether a number is in a given range.\n",
    "\n",
    "### The range is from 3 to 11\n"
   ]
  },
  {
   "cell_type": "code",
   "execution_count": 11,
   "metadata": {},
   "outputs": [],
   "source": [
    "def in_range_3_11 (num) :\n",
    "    \n",
    "    #we will make a flag an will but false in it\n",
    "    \n",
    "    flag = False\n",
    "    \n",
    "    #we will go throw to the rang 3 to 11 \n",
    "    \n",
    "    for i in range(3,12):\n",
    "        \n",
    "        # we will see if the num equl i\n",
    "        \n",
    "        if num == i :\n",
    "            \n",
    "            # if so set the flag to true\n",
    "            \n",
    "             flag = True\n",
    "                \n",
    "    return flag"
   ]
  },
  {
   "cell_type": "code",
   "execution_count": 12,
   "metadata": {},
   "outputs": [
    {
     "name": "stdout",
     "output_type": "stream",
     "text": [
      "True\n"
     ]
    }
   ],
   "source": [
    "print(in_range_3_11 (10))"
   ]
  },
  {
   "cell_type": "markdown",
   "metadata": {},
   "source": [
    "### Write a  program to create the multiplication table (from 1 to 10) of a number."
   ]
  },
  {
   "cell_type": "code",
   "execution_count": 13,
   "metadata": {},
   "outputs": [],
   "source": [
    "def mul_tab (num):\n",
    "    \n",
    "    #we will go throw to the rang 3 to 11 \n",
    "    \n",
    "    for i in range(1 , 11):\n",
    "        \n",
    "        # we will print the i mul by the num\n",
    "        \n",
    "        print('{} X {} = {}'.format(i,num,i*num))\n",
    "\n"
   ]
  },
  {
   "cell_type": "code",
   "execution_count": 14,
   "metadata": {},
   "outputs": [
    {
     "name": "stdout",
     "output_type": "stream",
     "text": [
      "1 X 3 = 3\n",
      "2 X 3 = 6\n",
      "3 X 3 = 9\n",
      "4 X 3 = 12\n",
      "5 X 3 = 15\n",
      "6 X 3 = 18\n",
      "7 X 3 = 21\n",
      "8 X 3 = 24\n",
      "9 X 3 = 27\n",
      "10 X 3 = 30\n"
     ]
    }
   ],
   "source": [
    "mul_tab(3)"
   ]
  },
  {
   "cell_type": "markdown",
   "metadata": {},
   "source": [
    "#### LESSER OF TWO EVENS: Write a function that returns the lesser of two given numbers *if* both numbers are even, but returns the greater if one or both numbers are odd\n",
    "    lesser_of_two_evens(2,4) --> 2\n",
    "    lesser_of_two_evens(2,5) --> 5"
   ]
  },
  {
   "cell_type": "code",
   "execution_count": 15,
   "metadata": {},
   "outputs": [],
   "source": [
    "def lesser_of_two_evens (fnum,snum):\n",
    "    \n",
    "    # we will see if the two num are even so we will see the smallest num\n",
    "    \n",
    "    if fnum % 2 == 0 and snum % 2 == 0 :\n",
    "        \n",
    "        #we will return the smallest num\n",
    "        \n",
    "        if fnum < snum :\n",
    "            \n",
    "            return fnum\n",
    "        \n",
    "        else :\n",
    "            \n",
    "            return snum\n",
    "        \n",
    "    #if not even then we will see the bigger num\n",
    "    \n",
    "    else :\n",
    "        \n",
    "        #we will see the biggest num\n",
    "        \n",
    "        if fnum > snum :\n",
    "            \n",
    "            return fnum\n",
    "        \n",
    "        else :\n",
    "            \n",
    "            return snum\n",
    "\n",
    "            "
   ]
  },
  {
   "cell_type": "code",
   "execution_count": 16,
   "metadata": {},
   "outputs": [
    {
     "name": "stdout",
     "output_type": "stream",
     "text": [
      "5\n"
     ]
    }
   ],
   "source": [
    "print(lesser_of_two_evens(2,5))"
   ]
  }
 ],
 "metadata": {
  "kernelspec": {
   "display_name": "Python 3 (ipykernel)",
   "language": "python",
   "name": "python3"
  },
  "language_info": {
   "codemirror_mode": {
    "name": "ipython",
    "version": 3
   },
   "file_extension": ".py",
   "mimetype": "text/x-python",
   "name": "python",
   "nbconvert_exporter": "python",
   "pygments_lexer": "ipython3",
   "version": "3.9.12"
  }
 },
 "nbformat": 4,
 "nbformat_minor": 2
}
