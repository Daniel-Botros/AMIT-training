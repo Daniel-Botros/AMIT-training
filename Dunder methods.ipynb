{
 "cells": [
  {
   "cell_type": "code",
   "execution_count": 8,
   "id": "89da0368",
   "metadata": {},
   "outputs": [],
   "source": [
    "M = 10 \n",
    "N = 5"
   ]
  },
  {
   "cell_type": "code",
   "execution_count": 9,
   "id": "aa56f3db",
   "metadata": {},
   "outputs": [
    {
     "data": {
      "text/plain": [
       "15"
      ]
     },
     "execution_count": 9,
     "metadata": {},
     "output_type": "execute_result"
    }
   ],
   "source": [
    "# same as +\n",
    "\n",
    "M.__add__(N)\n",
    "\n"
   ]
  },
  {
   "cell_type": "code",
   "execution_count": 2,
   "id": "250ef04e",
   "metadata": {},
   "outputs": [],
   "source": [
    "fname ='dan'\n",
    "sname= 'b'"
   ]
  },
  {
   "cell_type": "code",
   "execution_count": 10,
   "id": "5291fb2d",
   "metadata": {},
   "outputs": [
    {
     "data": {
      "text/plain": [
       "'danb'"
      ]
     },
     "execution_count": 10,
     "metadata": {},
     "output_type": "execute_result"
    }
   ],
   "source": [
    "#same as (+) for stings\n",
    "\n",
    "fname.__add__(sname)\n"
   ]
  },
  {
   "cell_type": "code",
   "execution_count": 11,
   "id": "974ec10c",
   "metadata": {},
   "outputs": [],
   "source": [
    "x=20"
   ]
  },
  {
   "cell_type": "code",
   "execution_count": 13,
   "id": "ec943bad",
   "metadata": {},
   "outputs": [
    {
     "data": {
      "text/plain": [
       "28"
      ]
     },
     "execution_count": 13,
     "metadata": {},
     "output_type": "execute_result"
    }
   ],
   "source": [
    "# will give us the size it takes\n",
    "\n",
    "x.__sizeof__()"
   ]
  },
  {
   "cell_type": "code",
   "execution_count": null,
   "id": "056f1982",
   "metadata": {},
   "outputs": [],
   "source": []
  }
 ],
 "metadata": {
  "kernelspec": {
   "display_name": "Python 3 (ipykernel)",
   "language": "python",
   "name": "python3"
  },
  "language_info": {
   "codemirror_mode": {
    "name": "ipython",
    "version": 3
   },
   "file_extension": ".py",
   "mimetype": "text/x-python",
   "name": "python",
   "nbconvert_exporter": "python",
   "pygments_lexer": "ipython3",
   "version": "3.9.12"
  }
 },
 "nbformat": 4,
 "nbformat_minor": 5
}
